{
 "cells": [
  {
   "cell_type": "code",
   "execution_count": 1,
   "id": "828de4fa",
   "metadata": {},
   "outputs": [
    {
     "name": "stdout",
     "output_type": "stream",
     "text": [
      "Enter the Playlist Link: \n",
      "https://open.spotify.com/playlist/37i9dQZF1DXccgHpuP6BCs?si=sHUDe9jPRrWQzk-wgvWtrw&utm_source=native-share-menu\n",
      "<class 'int'>\n"
     ]
    },
    {
     "ename": "TypeError",
     "evalue": "'<' not supported between instances of 'dict' and 'int'",
     "output_type": "error",
     "traceback": [
      "\u001b[1;31m---------------------------------------------------------------------------\u001b[0m",
      "\u001b[1;31mTypeError\u001b[0m                                 Traceback (most recent call last)",
      "Input \u001b[1;32mIn [1]\u001b[0m, in \u001b[0;36m<cell line: 7>\u001b[1;34m()\u001b[0m\n\u001b[0;32m      5\u001b[0m sad \u001b[38;5;241m=\u001b[39m []\n\u001b[0;32m      6\u001b[0m calm \u001b[38;5;241m=\u001b[39m []\n\u001b[1;32m----> 7\u001b[0m \u001b[43madd_songs\u001b[49m\u001b[43m(\u001b[49m\u001b[43m)\u001b[49m\n\u001b[0;32m      8\u001b[0m \u001b[38;5;28;01mwith\u001b[39;00m \u001b[38;5;28mopen\u001b[39m(\u001b[38;5;124m\"\u001b[39m\u001b[38;5;124madd.json\u001b[39m\u001b[38;5;124m\"\u001b[39m \u001b[38;5;124m'\u001b[39m\u001b[38;5;124mr\u001b[39m\u001b[38;5;124m'\u001b[39m) \u001b[38;5;28;01mas\u001b[39;00m f , \u001b[38;5;28mopen\u001b[39m(\u001b[38;5;124m'\u001b[39m\u001b[38;5;124msongmodel\u001b[39m\u001b[38;5;124m'\u001b[39m,\u001b[38;5;124m'\u001b[39m\u001b[38;5;124mrb\u001b[39m\u001b[38;5;124m'\u001b[39m) \u001b[38;5;28;01mas\u001b[39;00m m:\n\u001b[0;32m      9\u001b[0m     data \u001b[38;5;241m=\u001b[39m json\u001b[38;5;241m.\u001b[39mload(f)\n",
      "File \u001b[1;32m~\\Downloads\\EmoPlayer\\pl.py:68\u001b[0m, in \u001b[0;36madd_songs\u001b[1;34m()\u001b[0m\n\u001b[0;32m     65\u001b[0m items \u001b[38;5;241m=\u001b[39m tracks[\u001b[38;5;124m\"\u001b[39m\u001b[38;5;124mitems\u001b[39m\u001b[38;5;124m\"\u001b[39m]\n\u001b[0;32m     67\u001b[0m i\u001b[38;5;241m=\u001b[39m\u001b[38;5;241m0\u001b[39m\n\u001b[1;32m---> 68\u001b[0m \u001b[38;5;28;01mwhile\u001b[39;00m \u001b[43mi\u001b[49m\u001b[43m \u001b[49m\u001b[38;5;241;43m<\u001b[39;49m\u001b[43m \u001b[49m\u001b[38;5;241;43m100\u001b[39;49m:\n\u001b[0;32m     70\u001b[0m     song \u001b[38;5;241m=\u001b[39m items[i][\u001b[38;5;124m\"\u001b[39m\u001b[38;5;124mtrack\u001b[39m\u001b[38;5;124m\"\u001b[39m][\u001b[38;5;124m\"\u001b[39m\u001b[38;5;124mname\u001b[39m\u001b[38;5;124m\"\u001b[39m]\n\u001b[0;32m     71\u001b[0m     track_id \u001b[38;5;241m=\u001b[39m items[i][\u001b[38;5;124m\"\u001b[39m\u001b[38;5;124mtrack\u001b[39m\u001b[38;5;124m\"\u001b[39m][\u001b[38;5;124m\"\u001b[39m\u001b[38;5;124mid\u001b[39m\u001b[38;5;124m\"\u001b[39m]\n",
      "\u001b[1;31mTypeError\u001b[0m: '<' not supported between instances of 'dict' and 'int'"
     ]
    }
   ],
   "source": [
    "import json\n",
    "from pl import *\n",
    "happy = []\n",
    "energitic = []\n",
    "sad = []\n",
    "calm = []\n",
    "add_songs()\n",
    "with open(\"add.json\" 'r') as f , open('songmodel','rb') as m:\n",
    "    data = json.load(f)\n",
    "    pred = pickle.load(m)\n",
    "    \n",
    "    json_arr = np.asarray(data)\n",
    "#     print(json_arr[0])\n",
    "\n",
    "\n",
    "for i in json_arr:\n",
    "        \n",
    "        X_new = np.array([[i['Energy'],i['Valence']]])\n",
    "        \n",
    "        prediction = pred.predict(X_new)\n",
    "#         i['mood'] = ' '.join(prediction) \n",
    "        if prediction == 'Happy':\n",
    "            happy.append(i)\n",
    "            with open(\"happy.json\" , 'w') as g:\n",
    "                json.dump(happy, f, indent = 3)\n",
    "                g.close()\n",
    "        elif prediction == 'Energitic':\n",
    "            energitic.append(i)\n",
    "            with open(\"energy.json\", 'w') as g:\n",
    "                json.dump(energitic,f, indent = 3)\n",
    "                g.close()\n",
    "        elif prediction == 'Sad':\n",
    "            sad.append(i)\n",
    "            with open(\"sad.json\", 'w') as g:\n",
    "                json.dump(sad,f, indent = 3)\n",
    "                g.close()\n",
    "        else:\n",
    "            calm.append(i)\n",
    "            with open(\"calm.json\", 'w') as g:\n",
    "                json.dump(calm,f, indent = 3)\n",
    "                g.close()\n",
    "        print(f\"{i['name']} by {i['artist']} is {prediction}\")"
   ]
  },
  {
   "cell_type": "code",
   "execution_count": null,
   "id": "a01497cd",
   "metadata": {},
   "outputs": [],
   "source": []
  }
 ],
 "metadata": {
  "kernelspec": {
   "display_name": "Python 3 (ipykernel)",
   "language": "python",
   "name": "python3"
  },
  "language_info": {
   "codemirror_mode": {
    "name": "ipython",
    "version": 3
   },
   "file_extension": ".py",
   "mimetype": "text/x-python",
   "name": "python",
   "nbconvert_exporter": "python",
   "pygments_lexer": "ipython3",
   "version": "3.10.4"
  }
 },
 "nbformat": 4,
 "nbformat_minor": 5
}
